{
 "cells": [
  {
   "cell_type": "markdown",
   "metadata": {},
   "source": [
    "# 라운드 #2 제한 규칙 (Constraints in the round #1)"
   ]
  },
  {
   "cell_type": "markdown",
   "metadata": {},
   "source": [
    "**규칙 1.** 팀 객체 생성 시 유닛의 개수는 반드시 **10개**여야 한다. 즉, 10개 미만이거나 10개 초과는 허용하지 않는다.\n",
    "하지만 다른 팀과 대결 중에는 유닛이 죽을 수 있으므로 유닛의 개수가 변할 수 있다."
   ]
  },
  {
   "cell_type": "markdown",
   "metadata": {},
   "source": [
    "**규칙 2.** 유닛의 **$\\text{HP}$ 최소값은 10**이다. 따라서 팀에서 유닛 생성 시 모든 유닛의 $\\text{HP}$를 10 이상의 값으로 설정해야 한다."
   ]
  },
  {
   "cell_type": "markdown",
   "metadata": {},
   "source": [
    "**규칙 3.** 유닛 하나의 **$\\text{HP}$**, **$\\text{ATT}$**, **$\\text{ARM}$**은 다음 수식의 제한을 받는다.\n",
    "\n",
    "$$\\text{HP} + \\text{ATT} + 1.5 \\cdot \\text{ARM} \\leq 50.$$\n",
    "\n",
    "이 제한 수식을 고려하여 각 유닛의 $\\text{HP}$, $\\text{ATT}$, $\\text{ARM}$을 적절히 분배할 필요가 있다."
   ]
  },
  {
   "cell_type": "markdown",
   "metadata": {},
   "source": [
    "**규칙 4.** 유닛의 **회피 능력치 $\\text{EVS}$는 0으로 설정**한다. 라운드 #1에서는 회피 능력치를 도입함에 따라 결과 변동 폭이 컸지만, 라운드 #2에서는 회피 능력치를 제거하기로 결정하였다."
   ]
  },
  {
   "cell_type": "markdown",
   "metadata": {},
   "source": [
    "**규칙 5.** `Team.arrange()` 함수의 실행시간은 **0.05초**를 초과할 수 없다."
   ]
  }
 ],
 "metadata": {
  "kernelspec": {
   "display_name": "Python 3",
   "language": "python",
   "name": "python3"
  },
  "language_info": {
   "codemirror_mode": {
    "name": "ipython",
    "version": 3
   },
   "file_extension": ".py",
   "mimetype": "text/x-python",
   "name": "python",
   "nbconvert_exporter": "python",
   "pygments_lexer": "ipython3",
   "version": "3.8.5"
  }
 },
 "nbformat": 4,
 "nbformat_minor": 4
}
